{
  "nbformat": 4,
  "nbformat_minor": 0,
  "metadata": {
    "colab": {
      "provenance": [],
      "include_colab_link": true
    },
    "kernelspec": {
      "name": "python3",
      "display_name": "Python 3"
    },
    "language_info": {
      "name": "python"
    }
  },
  "cells": [
    {
      "cell_type": "markdown",
      "metadata": {
        "id": "view-in-github",
        "colab_type": "text"
      },
      "source": [
        "<a href=\"https://colab.research.google.com/github/kimsh77/Midterm24/blob/main/2023013206_reviewedbyMK316.ipynb\" target=\"_parent\"><img src=\"https://colab.research.google.com/assets/colab-badge.svg\" alt=\"Open In Colab\"/></a>"
      ]
    },
    {
      "cell_type": "markdown",
      "source": [
        "# 🌀Midterm 2024: (Kim SH)\n",
        "\n",
        "(Reviewed by MK316)"
      ],
      "metadata": {
        "id": "mv6xuqIIa3DS"
      }
    },
    {
      "cell_type": "markdown",
      "source": [
        "## Variable Question (😊Good job! But puntuation doesn't match. Check my code below): 2.5/3"
      ],
      "metadata": {
        "id": "R7OwuR4fdOwa"
      }
    },
    {
      "cell_type": "code",
      "source": [
        "# Marry, 1998, Ohio; and John, 1999, Boston.\n",
        "x = input(\"What's your name?\"); y = input(\"When were you born in?\"); z = input(\"Where is your hometown?\")\n",
        "print(\"Hello, my name is \",x, \". I was born in \",y, \", and I'm from \",z, \". Nice to meet you.\")"
      ],
      "metadata": {
        "colab": {
          "base_uri": "https://localhost:8080/"
        },
        "id": "ftpcXDZpdp_Q",
        "outputId": "35ff6642-e68c-4407-bdfe-224ef3ad0374"
      },
      "execution_count": null,
      "outputs": [
        {
          "output_type": "stream",
          "name": "stdout",
          "text": [
            "What's your name?Mary\n",
            "When were you born in?1998\n",
            "Where is your hometown?Ohio\n",
            "Hello, my name is  Mary . I was born in  1998 , and I'm from  Ohio . Nice to meet you.\n"
          ]
        }
      ]
    },
    {
      "cell_type": "markdown",
      "source": [
        "🚩 Suggested code below:"
      ],
      "metadata": {
        "id": "LC7_WPZURoFi"
      }
    },
    {
      "cell_type": "code",
      "source": [
        "x = input(\"Name: \") #name\n",
        "y = input(\"Born in: \") #born_in\n",
        "z = input(\"Home town: \") #hometown\n",
        "\n",
        "text = f\"Hello, my name is {x} and I was born in {y}. I'm from {z}. Nice to meet you!\"\n",
        "print(text)"
      ],
      "metadata": {
        "id": "kAyEy_0rRpLB"
      },
      "execution_count": null,
      "outputs": []
    },
    {
      "cell_type": "markdown",
      "source": [
        "## Name Question(😍You got it!): 3/3\n",
        "\n",
        "🚩 However, the punctuation still doesn't work. So, refer to my suggested code below."
      ],
      "metadata": {
        "id": "s1LKqaPjgqBx"
      }
    },
    {
      "cell_type": "code",
      "source": [
        "# Name question\n",
        "x = \"My name is\"\n",
        "y = \"Seohyeon\"\n",
        "print(x, y, \".\")"
      ],
      "metadata": {
        "colab": {
          "base_uri": "https://localhost:8080/"
        },
        "id": "UjxPzIF4gw9R",
        "outputId": "3e46dc7a-94e4-41bc-e260-bb74d706949f"
      },
      "execution_count": null,
      "outputs": [
        {
          "output_type": "stream",
          "name": "stdout",
          "text": [
            "My name is Seohyeon .\n"
          ]
        }
      ]
    },
    {
      "cell_type": "markdown",
      "source": [
        "🚩 Suggested code below:"
      ],
      "metadata": {
        "id": "pLlIKbGzR1vj"
      }
    },
    {
      "cell_type": "code",
      "source": [
        "# Name question\n",
        "x = \"My name is\"\n",
        "y = \"Seohyeon\"\n",
        "print(f\"{x} {y}.\")"
      ],
      "metadata": {
        "id": "VC_n5Z9MR2Al",
        "outputId": "628be42b-4b77-4c0e-8520-cfdf861eea81",
        "colab": {
          "base_uri": "https://localhost:8080/"
        }
      },
      "execution_count": null,
      "outputs": [
        {
          "output_type": "stream",
          "name": "stdout",
          "text": [
            "My name is Seohyeon.\n"
          ]
        }
      ]
    },
    {
      "cell_type": "markdown",
      "source": [
        "## Index Question(😏Check my code below): 1/3"
      ],
      "metadata": {
        "id": "zCByFPsIhyC4"
      }
    },
    {
      "cell_type": "code",
      "source": [
        "# Dropdown\n",
        "\n",
        "cardinal_number = \"2\" #@param = [\"1\",\"2\",\"3\",\"4\"]\n",
        "\n",
        "# Add one line of code below\n",
        "cardinal_number = int(cardinal_number)\n",
        "\n",
        "# Ordinal expression as a list\n",
        "\n",
        "words = [\"First\", \"Second\", \"Third\",\"Fourth\"]\n",
        "\n",
        "print(\"The ordinal expression:\", words[cardinal_number])"
      ],
      "metadata": {
        "colab": {
          "base_uri": "https://localhost:8080/"
        },
        "id": "_zbDUoVsh2NJ",
        "outputId": "03e3c040-3c8b-4919-c48f-c6d3cb88fc2b"
      },
      "execution_count": null,
      "outputs": [
        {
          "output_type": "stream",
          "name": "stdout",
          "text": [
            "The ordinal expression: Third\n"
          ]
        }
      ]
    },
    {
      "cell_type": "markdown",
      "source": [
        "🚩 Suggested code below:"
      ],
      "metadata": {
        "id": "4_IvmC39SUKY"
      }
    },
    {
      "cell_type": "code",
      "source": [
        "# Dropdown\n",
        "\n",
        "cardinal_number = \"4\" #@param = [\"1\",\"2\",\"3\",\"4\"]\n",
        "\n",
        "# Add one line of code below\n",
        "cardinal_number = int(cardinal_number) - 1            #🚩 Index matching\n",
        "\n",
        "# Ordinal expression as a list\n",
        "\n",
        "words = [\"First\", \"Second\",\"Third\",\"Fourth\"]\n",
        "\n",
        "print(\"The ordinal expression:\", words[cardinal_number])"
      ],
      "metadata": {
        "cellView": "form",
        "id": "jZu1p3DoSVp9",
        "outputId": "4173ac5e-1421-4171-99e9-339ade7653c0",
        "colab": {
          "base_uri": "https://localhost:8080/"
        }
      },
      "execution_count": null,
      "outputs": [
        {
          "output_type": "stream",
          "name": "stdout",
          "text": [
            "The ordinal expression: Fourth\n"
          ]
        }
      ]
    },
    {
      "cell_type": "markdown",
      "source": [
        "## Function Question (😍You got it!): 3/3"
      ],
      "metadata": {
        "id": "3qiHpu8SjoUg"
      }
    },
    {
      "cell_type": "code",
      "source": [
        "def divide(x, y):\n",
        "    return x / y\n",
        "\n",
        "result = divide(20, 4)\n",
        "print(result)"
      ],
      "metadata": {
        "colab": {
          "base_uri": "https://localhost:8080/"
        },
        "id": "hRA4nbmgjvsA",
        "outputId": "e0c2004b-13ed-4b7e-a8e0-e22a2d09f27f"
      },
      "execution_count": null,
      "outputs": [
        {
          "output_type": "stream",
          "name": "stdout",
          "text": [
            "5.0\n"
          ]
        }
      ]
    },
    {
      "cell_type": "markdown",
      "source": [
        "## Dictionary Question (😍You got it!): 3/3"
      ],
      "metadata": {
        "id": "TkkRCOP_lBv5"
      }
    },
    {
      "cell_type": "code",
      "source": [
        "grades = {'A':70,'B':85,'C':90}\n",
        "grade = grades[\"B\"]\n",
        "print(grade)"
      ],
      "metadata": {
        "colab": {
          "base_uri": "https://localhost:8080/"
        },
        "id": "mo7WRpwWlG6I",
        "outputId": "a280943e-b00b-4c94-bb1d-6a58d02e9e6b"
      },
      "execution_count": null,
      "outputs": [
        {
          "output_type": "stream",
          "name": "stdout",
          "text": [
            "85\n"
          ]
        }
      ]
    },
    {
      "cell_type": "markdown",
      "source": [
        "## GTTS Question"
      ],
      "metadata": {
        "id": "OB4D3U9Fmowp"
      }
    },
    {
      "cell_type": "markdown",
      "source": [
        "---\n",
        "#The END\n",
        "\n",
        "Coding: 12.5"
      ],
      "metadata": {
        "id": "O7ZZGEi3SpdH"
      }
    }
  ]
}